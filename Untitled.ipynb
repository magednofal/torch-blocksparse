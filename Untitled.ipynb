{
 "cells": [
  {
   "cell_type": "code",
   "execution_count": null,
   "metadata": {},
   "outputs": [],
   "source": [
    "Trying setup.py first"
   ]
  },
  {
   "cell_type": "code",
   "execution_count": 8,
   "metadata": {},
   "outputs": [
    {
     "name": "stdout",
     "output_type": "stream",
     "text": [
      "No CUDA runtime is found, using CUDA_HOME='/usr/local/cuda'\n"
     ]
    },
    {
     "ename": "SystemExit",
     "evalue": "usage: ipykernel_launcher.py [global_opts] cmd1 [cmd1_opts] [cmd2 [cmd2_opts] ...]\n   or: ipykernel_launcher.py --help [cmd1 cmd2 ...]\n   or: ipykernel_launcher.py --help-commands\n   or: ipykernel_launcher.py cmd --help\n\nerror: option -f not recognized",
     "output_type": "error",
     "traceback": [
      "An exception has occurred, use %tb to see the full traceback.\n",
      "\u001b[0;31mSystemExit\u001b[0m\u001b[0;31m:\u001b[0m usage: ipykernel_launcher.py [global_opts] cmd1 [cmd1_opts] [cmd2 [cmd2_opts] ...]\n   or: ipykernel_launcher.py --help [cmd1 cmd2 ...]\n   or: ipykernel_launcher.py --help-commands\n   or: ipykernel_launcher.py cmd --help\n\nerror: option -f not recognized\n"
     ]
    },
    {
     "name": "stderr",
     "output_type": "stream",
     "text": [
      "/home/maged/anaconda3/lib/python3.7/site-packages/IPython/core/interactiveshell.py:3304: UserWarning: To exit: use 'exit', 'quit', or Ctrl-D.\n",
      "  warn(\"To exit: use 'exit', 'quit', or Ctrl-D.\", stacklevel=1)\n"
     ]
    }
   ],
   "source": [
    "#!/usr/bin/env python\n",
    "\n",
    "import os\n",
    "import torch\n",
    "from setuptools import setup, find_packages\n",
    "from torch.utils.cpp_extension import BuildExtension, CppExtension\n",
    "\n",
    "cmdclass = {}\n",
    "cmdclass['build_ext'] = BuildExtension\n",
    "\n",
    "\n",
    "import setuptools\n",
    "\n",
    "ext_modules = [\n",
    "    CppExtension(name='torch_blocksparse_cpp_utils',\n",
    "                 sources=['csrc/utils.cpp'],\n",
    "                 extra_compile_args={'cxx': ['-O2',\n",
    "                                             '-fopenmp']})\n",
    "]\n",
    "\n",
    "setuptools.setup(\n",
    "    name             = 'torch-blocksparse',\n",
    "    version          = '1.1.1',\n",
    "    description      = 'Block-sparse primitives for PyTorch',\n",
    "    author           = 'Philippe Tillet',\n",
    "    maintainer       = 'Philippe Tillet',\n",
    "    maintainer_email = 'ptillet@g.harvard.edu',\n",
    "    install_requires = ['triton', 'torch'],\n",
    "    url              = 'https://github.com/ptillet/torch-blocksparse',\n",
    "    test_suite       = 'nose.collector',\n",
    "    tests_require    = ['nose', 'parameterized'],\n",
    "    license          = 'MIT',\n",
    "    packages         = find_packages(exclude=[\"csrc\"]),\n",
    "    ext_modules      = ext_modules,\n",
    "    cmdclass         = cmdclass\n",
    ")\n"
   ]
  },
  {
   "cell_type": "code",
   "execution_count": null,
   "metadata": {},
   "outputs": [],
   "source": []
  },
  {
   "cell_type": "code",
   "execution_count": null,
   "metadata": {},
   "outputs": [],
   "source": []
  },
  {
   "cell_type": "code",
   "execution_count": null,
   "metadata": {},
   "outputs": [],
   "source": []
  }
 ],
 "metadata": {
  "kernelspec": {
   "display_name": "Python 3",
   "language": "python",
   "name": "python3"
  },
  "language_info": {
   "codemirror_mode": {
    "name": "ipython",
    "version": 3
   },
   "file_extension": ".py",
   "mimetype": "text/x-python",
   "name": "python",
   "nbconvert_exporter": "python",
   "pygments_lexer": "ipython3",
   "version": "3.7.3"
  }
 },
 "nbformat": 4,
 "nbformat_minor": 2
}
